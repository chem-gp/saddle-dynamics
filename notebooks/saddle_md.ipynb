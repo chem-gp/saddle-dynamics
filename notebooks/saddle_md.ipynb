{
 "cells": [
  {
   "cell_type": "code",
   "execution_count": 97,
   "metadata": {},
   "outputs": [
    {
     "name": "stdout",
     "output_type": "stream",
     "text": [
      "The autoreload extension is already loaded. To reload it, use:\n",
      "  %reload_ext autoreload\n"
     ]
    }
   ],
   "source": [
    "%load_ext autoreload\n",
    "%autoreload 2\n",
    "\n",
    "import torch\n",
    "import tqdm\n",
    "import gpytorch\n",
    "\n",
    "\n",
    "import numpy as np\n",
    "from ase import io\n",
    "import matplotlib.pyplot as plt"
   ]
  },
  {
   "cell_type": "code",
   "execution_count": 1,
   "metadata": {},
   "outputs": [],
   "source": [
    "import sys\n",
    "sys.path.append(\"../../fande\") # Adds higher directory to python modules path.\n",
    "sys.path.append(\"..\") # Adds higher directory to python modules path."
   ]
  },
  {
   "cell_type": "code",
   "execution_count": 100,
   "metadata": {},
   "outputs": [
    {
     "name": "stdout",
     "output_type": "stream",
     "text": [
      "/home/dlb/coding/shared_coding/repos/chem-gp/saddle-dynamics/notebooks\n"
     ]
    }
   ],
   "source": [
    "path = os.getcwd()\n",
    "\n",
    "print(path)"
   ]
  },
  {
   "cell_type": "code",
   "execution_count": 4,
   "metadata": {},
   "outputs": [
    {
     "name": "stdout",
     "output_type": "stream",
     "text": [
      "fande.models module imported...\n",
      "FandE-GP imported  \n",
      "objects of fande.data module imported...\n"
     ]
    }
   ],
   "source": [
    "from fande.data import FandeDataModule"
   ]
  },
  {
   "cell_type": "code",
   "execution_count": null,
   "metadata": {},
   "outputs": [],
   "source": []
  },
  {
   "cell_type": "markdown",
   "metadata": {},
   "source": [
    "### Parsing and loading data:"
   ]
  },
  {
   "cell_type": "code",
   "execution_count": 15,
   "metadata": {},
   "outputs": [
    {
     "name": "stdout",
     "output_type": "stream",
     "text": [
      "The autoreload extension is already loaded. To reload it, use:\n",
      "  %reload_ext autoreload\n"
     ]
    }
   ],
   "source": [
    "%load_ext autoreload\n",
    "%autoreload 2\n",
    "\n",
    "from sdynamics.load import parse_trajectories, parse_forces, flatten_trj_dictionaries"
   ]
  },
  {
   "cell_type": "code",
   "execution_count": 5,
   "metadata": {},
   "outputs": [
    {
     "name": "stdout",
     "output_type": "stream",
     "text": [
      "Reading trajectory files...\n"
     ]
    },
    {
     "name": "stderr",
     "output_type": "stream",
     "text": [
      "100%|██████████| 50/50 [00:17<00:00,  2.89it/s]"
     ]
    },
    {
     "name": "stdout",
     "output_type": "stream",
     "text": [
      "Trajectory files reading done!\n",
      "Reading .npy files with forces...\n",
      "Reading .npy files with forces done!\n"
     ]
    },
    {
     "name": "stderr",
     "output_type": "stream",
     "text": [
      "\n"
     ]
    }
   ],
   "source": [
    "trajectories, energies_trj, trj_files_basenames = parse_trajectories(traj_folder=\"../data/dynamics/ene_grad_fitting/data/trj/\")\n",
    "forces_trj = parse_forces(forces_path = '../data/dynamics/ene_grad_fitting/data/grad/', trj_files_basenames = trj_files_basenames)"
   ]
  },
  {
   "cell_type": "code",
   "execution_count": 302,
   "metadata": {},
   "outputs": [
    {
     "name": "stdout",
     "output_type": "stream",
     "text": [
      "Flattening done!\n"
     ]
    }
   ],
   "source": [
    "traj, energies, forces = flatten_trj_dictionaries(trajectories, energies_trj, trj_files_basenames, forces_trj)"
   ]
  },
  {
   "cell_type": "markdown",
   "metadata": {},
   "source": [
    "### Prepare training/test datasets:"
   ]
  },
  {
   "cell_type": "code",
   "execution_count": 488,
   "metadata": {},
   "outputs": [],
   "source": [
    "# Training data:\n",
    "# training_indices = np.sort(  np.random.choice(np.arange(0,10_000), 10000, replace=False) )\n",
    "training_indices = np.sort(  np.arange(0, 2000, 2) )  \n",
    "traj_train = [traj[i] for i in training_indices]\n",
    "energies_train = energies[training_indices]\n",
    "forces_train = forces[training_indices]\n",
    "train_data = {'trajectory': traj_train, 'energies': energies_train, 'forces': forces_train}\n",
    "\n",
    "#Test data:\n",
    "# test_indices = np.sort(  np.random.choice(np.arange(0,92795), 200, replace=False) ) \n",
    "test_indices = np.sort(  np.arange(1,2001,2) ) \n",
    "traj_test = [traj[i] for i in test_indices]\n",
    "energies_test = energies[test_indices]\n",
    "forces_test = forces[test_indices]\n",
    "test_data = {'trajectory': traj_test, 'energies': energies_test, 'forces': forces_test}"
   ]
  },
  {
   "cell_type": "code",
   "execution_count": 491,
   "metadata": {},
   "outputs": [],
   "source": [
    "from fande.data import FandeDataModuleASE\n",
    "\n",
    "\n",
    "hparams = {\n",
    "    'dtype' : 'float64',\n",
    "    'device' : 'gpu'\n",
    "}"
   ]
  },
  {
   "cell_type": "code",
   "execution_count": 492,
   "metadata": {},
   "outputs": [],
   "source": [
    "fdm = FandeDataModuleASE(train_data, test_data, hparams, atoms_forces=None)"
   ]
  },
  {
   "cell_type": "code",
   "execution_count": 511,
   "metadata": {},
   "outputs": [
    {
     "name": "stdout",
     "output_type": "stream",
     "text": [
      "Total length of train traj is 1000\n",
      "Starting SOAP calculation...\n",
      "SOAP calculation done!\n",
      "Total length of test traj is 1000\n",
      "Starting SOAP calculation...\n",
      "SOAP calculation done!\n",
      "(1000, 17, 3, 840)\n",
      "(1000, 840)\n"
     ]
    }
   ],
   "source": [
    "soap_params = {\n",
    "    'species': [\"H\", \"C\"],\n",
    "    'periodic': False,\n",
    "    'rcut': 3.0,\n",
    "    'sigma': 0.5,\n",
    "    'nmax': 7,\n",
    "    'lmax': 7,\n",
    "    'average': \"outer\",\n",
    "    'crossover': True,\n",
    "    'dtype': \"float64\",\n",
    "    'n_jobs': 10,\n",
    "    'sparse': False,\n",
    "    'positions': [0,2,3,6]\n",
    "}\n",
    "\n",
    "fdm.calculate_invariants(soap_params)"
   ]
  },
  {
   "cell_type": "code",
   "execution_count": 494,
   "metadata": {},
   "outputs": [
    {
     "data": {
      "text/plain": [
       "torch.Size([51000, 330])"
      ]
     },
     "execution_count": 494,
     "metadata": {},
     "output_type": "execute_result"
    }
   ],
   "source": [
    "fdm.train_DX.shape"
   ]
  },
  {
   "cell_type": "markdown",
   "metadata": {},
   "source": [
    "### Fitting Forces:"
   ]
  },
  {
   "cell_type": "code",
   "execution_count": 515,
   "metadata": {},
   "outputs": [
    {
     "name": "stderr",
     "output_type": "stream",
     "text": [
      "GPU available: True, used: True\n",
      "TPU available: False, using: 0 TPU cores\n",
      "IPU available: False, using: 0 IPUs\n",
      "LOCAL_RANK: 0 - CUDA_VISIBLE_DEVICES: [0]\n",
      "\n",
      "  | Name                                                   | Type                       | Params\n",
      "------------------------------------------------------------------------------------------------------\n",
      "0 | likelihood                                             | GaussianLikelihood         | 1     \n",
      "1 | likelihood.noise_covar                                 | HomoskedasticNoise         | 1     \n",
      "2 | likelihood.noise_covar.raw_noise_constraint            | GreaterThan                | 0     \n",
      "3 | likelihood.noise_covar.raw_noise_constraint._transform | Softplus                   | 0     \n",
      "4 | model                                                  | ExactGPModelForces         | 2     \n",
      "5 | model.mean_module                                      | ZeroMean                   | 0     \n",
      "6 | model.covar_module                                     | LinearKernel               | 1     \n",
      "7 | model.covar_module.raw_variance_constraint             | Positive                   | 0     \n",
      "8 | mll                                                    | ExactMarginalLogLikelihood | 2     \n",
      "------------------------------------------------------------------------------------------------------\n",
      "2         Trainable params\n",
      "0         Non-trainable params\n",
      "2         Total params\n",
      "0.000     Total estimated model params size (MB)\n"
     ]
    },
    {
     "name": "stdout",
     "output_type": "stream",
     "text": [
      "\n",
      " setup() callback called...\n",
      "Epoch 0:   0%|          | 0/20 [19:12<?, ?it/s]loss=0.689, v_num=117]        \n",
      "Epoch 99: 100%|██████████| 1/1 [00:00<00:00,  6.21it/s, loss=-0.911, v_num=117]   \n",
      "\n",
      " teardown() callback called...\n"
     ]
    }
   ],
   "source": [
    "from fande.models import ModelForces, ModelEnergies, MyCallbacks\n",
    "from torch.utils.data import DataLoader, TensorDataset, random_split\n",
    "from pytorch_lightning import Trainer, seed_everything\n",
    "import numpy as np\n",
    "# seed_everything(42, workers=True)\n",
    "\n",
    "train_DX = fdm.train_DX\n",
    "train_F = fdm.train_F\n",
    "test_DX = fdm.test_DX\n",
    "test_F = fdm.test_F\n",
    "\n",
    "# ind_slice = np.sort( np.concatenate( \n",
    "#     ( np.arange(0,4800), np.arange(11*4800,12*4800), np.random.choice(np.arange(4800,59200), 300, replace=False) ) \n",
    "#     ) )\n",
    "\n",
    "ind_slice = np.sort(  np.random.choice(np.arange(0,51_000), 5_000, replace=False) ) \n",
    "# ind_slice = np.sort(  np.arange(0,15_000) ) \n",
    "\n",
    "train_dataset = TensorDataset(train_DX[ind_slice], train_F[ind_slice])\n",
    "train_loader = DataLoader(train_dataset, batch_size=100_000)\n",
    "\n",
    "model_f = ModelForces(train_DX[ind_slice], train_F[ind_slice], hparams, 0.05)\n",
    "\n",
    "trainer_f = Trainer(\n",
    "    gpus=1, \n",
    "    max_epochs=100, \n",
    "    precision=64,\n",
    "    weights_summary='full', \n",
    "    callbacks=[MyCallbacks()])\n",
    "\n",
    "trainer_f.fit(model_f, train_loader)"
   ]
  },
  {
   "cell_type": "markdown",
   "metadata": {},
   "source": [
    "### Predictions on test data:"
   ]
  },
  {
   "cell_type": "code",
   "execution_count": 516,
   "metadata": {},
   "outputs": [],
   "source": [
    "from fande.predict import PredictorASE\n",
    "\n",
    "test_X = fdm.test_X\n",
    "test_DX = fdm.test_DX\n",
    "test_E = fdm.test_E\n",
    "test_F = fdm.test_F\n",
    "\n",
    "model_e = None\n",
    "trainer_e = None\n",
    "\n",
    "\n",
    "predictor = PredictorASE(\n",
    "            model_e,\n",
    "            model_f,\n",
    "            trainer_e,\n",
    "            trainer_f,\n",
    "            test_X,\n",
    "            test_DX,\n",
    "            test_E,\n",
    "            test_F,\n",
    "            test_data,\n",
    "            hparams\n",
    ")\n",
    "\n",
    "# predictor.predict_and_plot_forces()"
   ]
  },
  {
   "cell_type": "markdown",
   "metadata": {},
   "source": [
    "### Dynamics simulation"
   ]
  },
  {
   "cell_type": "code",
   "execution_count": null,
   "metadata": {},
   "outputs": [],
   "source": [
    "from sdynamics.dynamics import MDynamics\n",
    "\n",
    "atoms = ... # initialize saddle structure\n",
    "\n",
    "atoms.calc = gp_model.ase_calc() # get calc from the trained GP\n",
    "\n",
    "md_runner = MDynamics(atoms) # instantiate class for running MD\n",
    "\n",
    "md_runner.run() # run the MD"
   ]
  },
  {
   "cell_type": "code",
   "execution_count": null,
   "metadata": {},
   "outputs": [],
   "source": []
  },
  {
   "cell_type": "markdown",
   "metadata": {},
   "source": [
    "### Visualize:"
   ]
  },
  {
   "cell_type": "code",
   "execution_count": 394,
   "metadata": {},
   "outputs": [
    {
     "data": {
      "text/plain": [
       "<Popen: returncode: None args: ['/home/dlb/anaconda3/envs/pyc/bin/python', '...>"
      ]
     },
     "execution_count": 394,
     "metadata": {},
     "output_type": "execute_result"
    }
   ],
   "source": [
    "from ase.visualize import view\n",
    "\n",
    "# trj = trajectories[trj_files_basename[2]]\n",
    "view(traj_train[0:200])\n",
    "# view(traj[0:100])"
   ]
  },
  {
   "cell_type": "code",
   "execution_count": 277,
   "metadata": {},
   "outputs": [],
   "source": [
    "forces = fdm.forces_train[0]\n",
    "\n",
    "traj[0].set_velocities(forces)"
   ]
  },
  {
   "cell_type": "code",
   "execution_count": 279,
   "metadata": {},
   "outputs": [
    {
     "data": {
      "text/plain": [
       "array([[-3.90522999e-04,  4.68570074e-03,  2.31874938e-03],\n",
       "       [-5.37185370e-03, -1.36574150e-05,  8.30739807e-04],\n",
       "       [-1.22377257e-03, -1.09553763e-02,  1.36464360e-03],\n",
       "       [ 9.91943761e-04,  2.55279419e-03, -3.13065246e-03],\n",
       "       [-1.27218775e-03, -1.32434891e-02, -1.11857372e-02],\n",
       "       [ 7.68728430e-03,  9.74544106e-03, -7.57649694e-03],\n",
       "       [ 1.20865503e-03,  5.43907481e-03,  1.49617786e-02],\n",
       "       [-4.34298248e-03, -2.32720331e-03, -4.19559293e-03],\n",
       "       [ 1.11949766e-03,  5.79979828e-04,  3.27397193e-03],\n",
       "       [ 2.66445874e-03,  1.32920409e-03,  2.88248021e-03],\n",
       "       [-6.67046476e-04,  2.56271864e-03, -3.49064641e-03],\n",
       "       [ 3.98590183e-04,  1.22282798e-03,  2.57228870e-03],\n",
       "       [ 5.73074166e-04, -8.30302240e-04, -1.74763154e-04],\n",
       "       [-2.78975580e-03, -3.40333050e-05,  6.95041153e-04],\n",
       "       [-1.88000470e-03,  6.16194170e-04, -1.16993422e-04],\n",
       "       [-2.85754338e-04, -1.46566614e-03,  9.43701018e-04],\n",
       "       [ 3.58037696e-03,  1.35792298e-04,  2.74881160e-05]])"
      ]
     },
     "execution_count": 279,
     "metadata": {},
     "output_type": "execute_result"
    }
   ],
   "source": [
    "traj[0].get_velocities()"
   ]
  },
  {
   "cell_type": "code",
   "execution_count": 287,
   "metadata": {},
   "outputs": [],
   "source": [
    "traj[0].euler_rotate(phi=25, theta=33, psi=12, center=(0, 0, 0))\n",
    "traj[0].rotate(90, (0, 0, 1))"
   ]
  },
  {
   "cell_type": "code",
   "execution_count": 293,
   "metadata": {},
   "outputs": [],
   "source": [
    "mol_forces = traj[0].copy()"
   ]
  },
  {
   "cell_type": "code",
   "execution_count": 299,
   "metadata": {},
   "outputs": [],
   "source": [
    "mol_forces.positions = forces \n",
    "mol_forces.euler_rotate(phi=25, theta=33, psi=12, center=(0, 0, 0))\n",
    "\n",
    "forces_rotated = mol_forces.positions"
   ]
  },
  {
   "cell_type": "code",
   "execution_count": 300,
   "metadata": {},
   "outputs": [
    {
     "data": {
      "text/plain": [
       "array([[ 2.62262794e-03,  4.51628554e-03, -4.58133085e-04],\n",
       "       [-4.28003597e-03,  3.30822087e-03, -5.33004744e-04],\n",
       "       [-7.10023872e-03, -5.80065875e-03,  6.27049516e-03],\n",
       "       [ 1.91046366e-03, -5.24974587e-04, -3.65735228e-03],\n",
       "       [-9.86821925e-03, -1.39609320e-02, -3.13684704e-03],\n",
       "       [ 1.09590666e-02, -1.76066252e-03, -9.39522192e-03],\n",
       "       [ 5.78460358e-03,  1.08898653e-02,  1.01414198e-02],\n",
       "       [-5.33491973e-03, -1.43686715e-03, -3.36963148e-03],\n",
       "       [ 1.61208369e-03,  1.52534128e-03,  2.71717941e-03],\n",
       "       [ 3.25163219e-03,  9.81236793e-04,  2.37463229e-03],\n",
       "       [ 5.26924412e-04,  1.77515595e-04, -4.34602451e-03],\n",
       "       [ 1.31399906e-03,  1.95876529e-03,  1.64544723e-03],\n",
       "       [-2.84360729e-05, -9.44128565e-04,  3.95184276e-04],\n",
       "       [-2.20828735e-03,  1.84082736e-03, -4.24206151e-05],\n",
       "       [-1.18923379e-03,  1.34769627e-03, -8.35007871e-04],\n",
       "       [-9.62906790e-04, -3.05256085e-04,  1.44914928e-03],\n",
       "       [ 2.99087657e-03, -1.81227464e-03,  7.80136083e-04]])"
      ]
     },
     "execution_count": 300,
     "metadata": {},
     "output_type": "execute_result"
    }
   ],
   "source": [
    "forces_rotated"
   ]
  },
  {
   "cell_type": "code",
   "execution_count": 295,
   "metadata": {},
   "outputs": [
    {
     "data": {
      "text/plain": [
       "<Popen: returncode: None args: ['/home/dlb/anaconda3/envs/pyc/bin/python', '...>"
      ]
     },
     "execution_count": 295,
     "metadata": {},
     "output_type": "execute_result"
    }
   ],
   "source": [
    "view(mol_forces)"
   ]
  }
 ],
 "metadata": {
  "kernelspec": {
   "display_name": "Python 3.9.12 ('base')",
   "language": "python",
   "name": "python3"
  },
  "language_info": {
   "codemirror_mode": {
    "name": "ipython",
    "version": 3
   },
   "file_extension": ".py",
   "mimetype": "text/x-python",
   "name": "python",
   "nbconvert_exporter": "python",
   "pygments_lexer": "ipython3",
   "version": "3.9.12"
  },
  "orig_nbformat": 4,
  "vscode": {
   "interpreter": {
    "hash": "0ddd1365f44c090590bb2618f275add86752e536c29796713a70da7809cd2e3f"
   }
  }
 },
 "nbformat": 4,
 "nbformat_minor": 2
}
