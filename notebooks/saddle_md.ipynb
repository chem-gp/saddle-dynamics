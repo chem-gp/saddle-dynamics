{
 "cells": [
  {
   "cell_type": "code",
   "execution_count": 2,
   "metadata": {},
   "outputs": [],
   "source": [
    "import torch\n",
    "import tqdm\n",
    "import gpytorch\n",
    "\n",
    "\n",
    "import numpy as np\n",
    "from ase import io\n",
    "import matplotlib.pyplot as plt"
   ]
  },
  {
   "cell_type": "code",
   "execution_count": 104,
   "metadata": {},
   "outputs": [],
   "source": [
    "import sys\n",
    "sys.path.append(\"../../fande\") # Adds higher directory to python modules path.\n",
    "sys.path.append(\"..\") # Adds higher directory to python modules path."
   ]
  },
  {
   "cell_type": "code",
   "execution_count": 100,
   "metadata": {},
   "outputs": [
    {
     "name": "stdout",
     "output_type": "stream",
     "text": [
      "/home/dlb/coding/shared_coding/repos/chem-gp/saddle-dynamics/notebooks\n"
     ]
    }
   ],
   "source": [
    "path = os.getcwd()\n",
    "\n",
    "print(path)"
   ]
  },
  {
   "cell_type": "code",
   "execution_count": 4,
   "metadata": {},
   "outputs": [
    {
     "name": "stdout",
     "output_type": "stream",
     "text": [
      "fande.models module imported...\n",
      "FandE-GP imported  \n",
      "objects of fande.data module imported...\n"
     ]
    }
   ],
   "source": [
    "from fande.data import FandeDataModule"
   ]
  },
  {
   "cell_type": "code",
   "execution_count": null,
   "metadata": {},
   "outputs": [],
   "source": []
  },
  {
   "cell_type": "code",
   "execution_count": 107,
   "metadata": {},
   "outputs": [],
   "source": [
    "from sdynamics import load"
   ]
  },
  {
   "cell_type": "code",
   "execution_count": null,
   "metadata": {},
   "outputs": [],
   "source": [
    "load.parse_trajectories()\n",
    "load.parse_forces()"
   ]
  },
  {
   "cell_type": "markdown",
   "metadata": {},
   "source": [
    "### Parsing trajectories and energies:"
   ]
  },
  {
   "cell_type": "code",
   "execution_count": 73,
   "metadata": {},
   "outputs": [
    {
     "name": "stdout",
     "output_type": "stream",
     "text": [
      "['../data/dynamics/ene_grad_fitting/data/trj/aimd_dft_t549_r2_000_trj.xyz', '../data/dynamics/ene_grad_fitting/data/trj/aimd_dft_t549_r2_040_trj.xyz', '../data/dynamics/ene_grad_fitting/data/trj/aimd_dft_t549_r2_039_trj.xyz', '../data/dynamics/ene_grad_fitting/data/trj/aimd_dft_t549_r2_049_trj.xyz', '../data/dynamics/ene_grad_fitting/data/trj/aimd_dft_t549_r2_036_trj.xyz', '../data/dynamics/ene_grad_fitting/data/trj/aimd_dft_t549_r2_018_trj.xyz', '../data/dynamics/ene_grad_fitting/data/trj/aimd_dft_t549_r2_025_trj.xyz', '../data/dynamics/ene_grad_fitting/data/trj/aimd_dft_t549_r2_021_trj.xyz', '../data/dynamics/ene_grad_fitting/data/trj/aimd_dft_t549_r2_024_trj.xyz', '../data/dynamics/ene_grad_fitting/data/trj/aimd_dft_t549_r2_047_trj.xyz', '../data/dynamics/ene_grad_fitting/data/trj/aimd_dft_t549_r2_029_trj.xyz', '../data/dynamics/ene_grad_fitting/data/trj/aimd_dft_t549_r2_014_trj.xyz', '../data/dynamics/ene_grad_fitting/data/trj/aimd_dft_t549_r2_033_trj.xyz', '../data/dynamics/ene_grad_fitting/data/trj/aimd_dft_t549_r2_022_trj.xyz', '../data/dynamics/ene_grad_fitting/data/trj/aimd_dft_t549_r2_034_trj.xyz', '../data/dynamics/ene_grad_fitting/data/trj/aimd_dft_t549_r2_013_trj.xyz', '../data/dynamics/ene_grad_fitting/data/trj/aimd_dft_t549_r2_027_trj.xyz', '../data/dynamics/ene_grad_fitting/data/trj/aimd_dft_t549_r2_043_trj.xyz', '../data/dynamics/ene_grad_fitting/data/trj/aimd_dft_t549_r2_044_trj.xyz', '../data/dynamics/ene_grad_fitting/data/trj/aimd_dft_t549_r2_042_trj.xyz', '../data/dynamics/ene_grad_fitting/data/trj/aimd_dft_t549_r2_007_trj.xyz', '../data/dynamics/ene_grad_fitting/data/trj/aimd_dft_t549_r2_019_trj.xyz', '../data/dynamics/ene_grad_fitting/data/trj/aimd_dft_t549_r2_004_trj.xyz', '../data/dynamics/ene_grad_fitting/data/trj/aimd_dft_t549_r2_048_trj.xyz', '../data/dynamics/ene_grad_fitting/data/trj/aimd_dft_t549_r2_011_trj.xyz', '../data/dynamics/ene_grad_fitting/data/trj/aimd_dft_t549_r2_032_trj.xyz', '../data/dynamics/ene_grad_fitting/data/trj/aimd_dft_t549_r2_009_trj.xyz', '../data/dynamics/ene_grad_fitting/data/trj/aimd_dft_t549_r2_037_trj.xyz', '../data/dynamics/ene_grad_fitting/data/trj/aimd_dft_t549_r2_016_trj.xyz', '../data/dynamics/ene_grad_fitting/data/trj/aimd_dft_t549_r2_012_trj.xyz', '../data/dynamics/ene_grad_fitting/data/trj/aimd_dft_t549_r2_046_trj.xyz', '../data/dynamics/ene_grad_fitting/data/trj/aimd_dft_t549_r2_023_trj.xyz', '../data/dynamics/ene_grad_fitting/data/trj/aimd_dft_t549_r2_031_trj.xyz', '../data/dynamics/ene_grad_fitting/data/trj/aimd_dft_t549_r2_030_trj.xyz', '../data/dynamics/ene_grad_fitting/data/trj/aimd_dft_t549_r2_005_trj.xyz', '../data/dynamics/ene_grad_fitting/data/trj/aimd_dft_t549_r2_006_trj.xyz', '../data/dynamics/ene_grad_fitting/data/trj/aimd_dft_t549_r2_035_trj.xyz', '../data/dynamics/ene_grad_fitting/data/trj/aimd_dft_t549_r2_010_trj.xyz', '../data/dynamics/ene_grad_fitting/data/trj/aimd_dft_t549_r2_001_trj.xyz', '../data/dynamics/ene_grad_fitting/data/trj/aimd_dft_t549_r2_026_trj.xyz', '../data/dynamics/ene_grad_fitting/data/trj/aimd_dft_t549_r2_038_trj.xyz', '../data/dynamics/ene_grad_fitting/data/trj/aimd_dft_t549_r2_017_trj.xyz', '../data/dynamics/ene_grad_fitting/data/trj/aimd_dft_t549_r2_028_trj.xyz', '../data/dynamics/ene_grad_fitting/data/trj/aimd_dft_t549_r2_015_trj.xyz', '../data/dynamics/ene_grad_fitting/data/trj/aimd_dft_t549_r2_041_trj.xyz', '../data/dynamics/ene_grad_fitting/data/trj/aimd_dft_t549_r2_003_trj.xyz', '../data/dynamics/ene_grad_fitting/data/trj/aimd_dft_t549_r2_008_trj.xyz', '../data/dynamics/ene_grad_fitting/data/trj/aimd_dft_t549_r2_020_trj.xyz', '../data/dynamics/ene_grad_fitting/data/trj/aimd_dft_t549_r2_045_trj.xyz', '../data/dynamics/ene_grad_fitting/data/trj/aimd_dft_t549_r2_002_trj.xyz']\n"
     ]
    }
   ],
   "source": [
    "import glob\n",
    "\n",
    "trj_files = glob.glob(\"../data/dynamics/ene_grad_fitting/data/trj/*.xyz\")\n",
    "print(trj_files)"
   ]
  },
  {
   "cell_type": "code",
   "execution_count": 92,
   "metadata": {},
   "outputs": [],
   "source": [
    "energies_trj = {} # energies parsed per trajectory\n",
    "\n",
    "trj_concat = [] # concatenated trajectory containing all the configurations\n",
    "energies_concat = [] #similarly concatenated energies\n",
    "\n",
    "trajectories = {}\n",
    "\n",
    "trj_files_basename = []\n",
    "\n",
    "for f in trj_files:\n",
    "        mol_traj = io.read(f, index=\":\")\n",
    "        trj_concat = trj_concat + mol_traj\n",
    "        e_list = []\n",
    "        # print(len(mol_traj))\n",
    "\n",
    "        for m in mol_traj:\n",
    "                e = float(list(m.info)[-1])\n",
    "                e_list.append(e)\n",
    "\n",
    "        trj_name = os.path.basename(f)\n",
    "        energies_trj[trj_name] = e_list\n",
    "        trajectories[trj_name] = mol_traj\n",
    "\n",
    "        energies_concat = energies_concat + e_list\n",
    "        trj_files_basename.append(trj_name)\n"
   ]
  },
  {
   "cell_type": "code",
   "execution_count": 68,
   "metadata": {},
   "outputs": [
    {
     "name": "stdout",
     "output_type": "stream",
     "text": [
      "92795\n",
      "92795\n"
     ]
    }
   ],
   "source": [
    "print(len(trj_concat))\n",
    "print(len(energies_concat))"
   ]
  },
  {
   "cell_type": "code",
   "execution_count": 79,
   "metadata": {},
   "outputs": [
    {
     "name": "stdout",
     "output_type": "stream",
     "text": [
      "../data/dynamics/ene_grad_fitting/data/trj/aimd_dft_t549_r2_000_trj.xyz\n",
      "aimd_dft_t549_r2_000_trj.xyz\n"
     ]
    }
   ],
   "source": [
    "print(trj_files[0])\n",
    "print(trj_files_basename[0])"
   ]
  },
  {
   "cell_type": "markdown",
   "metadata": {},
   "source": [
    "### Parsing forces:"
   ]
  },
  {
   "cell_type": "code",
   "execution_count": 93,
   "metadata": {},
   "outputs": [],
   "source": [
    "forces_files = glob.glob(\"../data/dynamics/ene_grad_fitting/data/grad/*.npy\")\n"
   ]
  },
  {
   "cell_type": "code",
   "execution_count": 84,
   "metadata": {},
   "outputs": [],
   "source": [
    "forces_path = '../data/dynamics/ene_grad_fitting/data/grad/'\n",
    "\n",
    "forces_trj = {}\n",
    "\n",
    "for f in trj_files_basename:\n",
    "        forces_filename = forces_path + f[:-7] + 'grad.npy'\n",
    "        forces = np.load(forces_filename)\n",
    "\n",
    "        forces_trj[f] = forces\n"
   ]
  },
  {
   "cell_type": "code",
   "execution_count": 88,
   "metadata": {},
   "outputs": [
    {
     "data": {
      "text/plain": [
       "(1754, 17, 3)"
      ]
     },
     "execution_count": 88,
     "metadata": {},
     "output_type": "execute_result"
    }
   ],
   "source": [
    "forces_trj[trj_files_basename[0]].shape"
   ]
  },
  {
   "cell_type": "markdown",
   "metadata": {},
   "source": [
    "### Result:"
   ]
  },
  {
   "cell_type": "code",
   "execution_count": null,
   "metadata": {},
   "outputs": [],
   "source": []
  },
  {
   "cell_type": "code",
   "execution_count": 109,
   "metadata": {},
   "outputs": [
    {
     "ename": "AttributeError",
     "evalue": "module 'sdynamics.load' has no attribute 'parse_trajectories'",
     "output_type": "error",
     "traceback": [
      "\u001b[0;31m---------------------------------------------------------------------------\u001b[0m",
      "\u001b[0;31mAttributeError\u001b[0m                            Traceback (most recent call last)",
      "\u001b[1;32mセル18 を /home/dlb/coding/shared_coding/repos/chem-gp/saddle-dynamics/notebooks/saddle_md.ipynb\u001b[0m in \u001b[0;36m<cell line: 1>\u001b[0;34m()\u001b[0m\n\u001b[0;32m----> <a href='vscode-notebook-cell:/home/dlb/coding/shared_coding/repos/chem-gp/saddle-dynamics/notebooks/saddle_md.ipynb#X30sZmlsZQ%3D%3D?line=0'>1</a>\u001b[0m load\u001b[39m.\u001b[39;49mparse_trajectories(traj_folder\u001b[39m=\u001b[39m\u001b[39m\"\u001b[39m\u001b[39m../data/dynamics/ene_grad_fitting/data/trj/\u001b[39m\u001b[39m\"\u001b[39m)\n",
      "\u001b[0;31mAttributeError\u001b[0m: module 'sdynamics.load' has no attribute 'parse_trajectories'"
     ]
    }
   ],
   "source": [
    "load.parse_trajectories(traj_folder=\"../data/dynamics/ene_grad_fitting/data/trj/\")"
   ]
  },
  {
   "cell_type": "code",
   "execution_count": 96,
   "metadata": {},
   "outputs": [
    {
     "data": {
      "text/plain": [
       "['aimd_dft_t549_r2_000_trj.xyz',\n",
       " 'aimd_dft_t549_r2_040_trj.xyz',\n",
       " 'aimd_dft_t549_r2_039_trj.xyz',\n",
       " 'aimd_dft_t549_r2_049_trj.xyz',\n",
       " 'aimd_dft_t549_r2_036_trj.xyz',\n",
       " 'aimd_dft_t549_r2_018_trj.xyz',\n",
       " 'aimd_dft_t549_r2_025_trj.xyz',\n",
       " 'aimd_dft_t549_r2_021_trj.xyz',\n",
       " 'aimd_dft_t549_r2_024_trj.xyz',\n",
       " 'aimd_dft_t549_r2_047_trj.xyz',\n",
       " 'aimd_dft_t549_r2_029_trj.xyz',\n",
       " 'aimd_dft_t549_r2_014_trj.xyz',\n",
       " 'aimd_dft_t549_r2_033_trj.xyz',\n",
       " 'aimd_dft_t549_r2_022_trj.xyz',\n",
       " 'aimd_dft_t549_r2_034_trj.xyz',\n",
       " 'aimd_dft_t549_r2_013_trj.xyz',\n",
       " 'aimd_dft_t549_r2_027_trj.xyz',\n",
       " 'aimd_dft_t549_r2_043_trj.xyz',\n",
       " 'aimd_dft_t549_r2_044_trj.xyz',\n",
       " 'aimd_dft_t549_r2_042_trj.xyz',\n",
       " 'aimd_dft_t549_r2_007_trj.xyz',\n",
       " 'aimd_dft_t549_r2_019_trj.xyz',\n",
       " 'aimd_dft_t549_r2_004_trj.xyz',\n",
       " 'aimd_dft_t549_r2_048_trj.xyz',\n",
       " 'aimd_dft_t549_r2_011_trj.xyz',\n",
       " 'aimd_dft_t549_r2_032_trj.xyz',\n",
       " 'aimd_dft_t549_r2_009_trj.xyz',\n",
       " 'aimd_dft_t549_r2_037_trj.xyz',\n",
       " 'aimd_dft_t549_r2_016_trj.xyz',\n",
       " 'aimd_dft_t549_r2_012_trj.xyz',\n",
       " 'aimd_dft_t549_r2_046_trj.xyz',\n",
       " 'aimd_dft_t549_r2_023_trj.xyz',\n",
       " 'aimd_dft_t549_r2_031_trj.xyz',\n",
       " 'aimd_dft_t549_r2_030_trj.xyz',\n",
       " 'aimd_dft_t549_r2_005_trj.xyz',\n",
       " 'aimd_dft_t549_r2_006_trj.xyz',\n",
       " 'aimd_dft_t549_r2_035_trj.xyz',\n",
       " 'aimd_dft_t549_r2_010_trj.xyz',\n",
       " 'aimd_dft_t549_r2_001_trj.xyz',\n",
       " 'aimd_dft_t549_r2_026_trj.xyz',\n",
       " 'aimd_dft_t549_r2_038_trj.xyz',\n",
       " 'aimd_dft_t549_r2_017_trj.xyz',\n",
       " 'aimd_dft_t549_r2_028_trj.xyz',\n",
       " 'aimd_dft_t549_r2_015_trj.xyz',\n",
       " 'aimd_dft_t549_r2_041_trj.xyz',\n",
       " 'aimd_dft_t549_r2_003_trj.xyz',\n",
       " 'aimd_dft_t549_r2_008_trj.xyz',\n",
       " 'aimd_dft_t549_r2_020_trj.xyz',\n",
       " 'aimd_dft_t549_r2_045_trj.xyz',\n",
       " 'aimd_dft_t549_r2_002_trj.xyz']"
      ]
     },
     "execution_count": 96,
     "metadata": {},
     "output_type": "execute_result"
    }
   ],
   "source": [
    "# all dicts are indexed by the trajectory name, e.g. forces_trj['aimd_dft_t549_r2_002_trj.xyz']\n",
    "\n",
    "forces_trj # dict with forces\n",
    "energies_trj # dict with energies\n",
    "trajectories # dict with trajectories\n",
    "trj_files_basename # list with basenames that serve as keys to the above dicts"
   ]
  }
 ],
 "metadata": {
  "kernelspec": {
   "display_name": "Python 3.9.12 ('base')",
   "language": "python",
   "name": "python3"
  },
  "language_info": {
   "codemirror_mode": {
    "name": "ipython",
    "version": 3
   },
   "file_extension": ".py",
   "mimetype": "text/x-python",
   "name": "python",
   "nbconvert_exporter": "python",
   "pygments_lexer": "ipython3",
   "version": "3.9.12"
  },
  "orig_nbformat": 4,
  "vscode": {
   "interpreter": {
    "hash": "0ddd1365f44c090590bb2618f275add86752e536c29796713a70da7809cd2e3f"
   }
  }
 },
 "nbformat": 4,
 "nbformat_minor": 2
}
