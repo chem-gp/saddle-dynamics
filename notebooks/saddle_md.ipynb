{
 "cells": [
  {
   "cell_type": "code",
   "execution_count": 120,
   "metadata": {},
   "outputs": [],
   "source": [
    "%load_ext autoreload\n",
    "%autoreload 2\n",
    "\n",
    "import torch\n",
    "import tqdm\n",
    "import gpytorch\n",
    "\n",
    "\n",
    "import numpy as np\n",
    "from ase import io\n",
    "import matplotlib.pyplot as plt"
   ]
  },
  {
   "cell_type": "code",
   "execution_count": 1,
   "metadata": {},
   "outputs": [],
   "source": [
    "import sys\n",
    "sys.path.append(\"../../fande\") # Adds higher directory to python modules path.\n",
    "sys.path.append(\"..\") # Adds higher directory to python modules path."
   ]
  },
  {
   "cell_type": "code",
   "execution_count": 100,
   "metadata": {},
   "outputs": [
    {
     "name": "stdout",
     "output_type": "stream",
     "text": [
      "/home/dlb/coding/shared_coding/repos/chem-gp/saddle-dynamics/notebooks\n"
     ]
    }
   ],
   "source": [
    "path = os.getcwd()\n",
    "\n",
    "print(path)"
   ]
  },
  {
   "cell_type": "code",
   "execution_count": 4,
   "metadata": {},
   "outputs": [
    {
     "name": "stdout",
     "output_type": "stream",
     "text": [
      "fande.models module imported...\n",
      "FandE-GP imported  \n",
      "objects of fande.data module imported...\n"
     ]
    }
   ],
   "source": [
    "from fande.data import FandeDataModule"
   ]
  },
  {
   "cell_type": "code",
   "execution_count": null,
   "metadata": {},
   "outputs": [],
   "source": []
  },
  {
   "cell_type": "markdown",
   "metadata": {},
   "source": [
    "### Parsing and loading data:"
   ]
  },
  {
   "cell_type": "code",
   "execution_count": 15,
   "metadata": {},
   "outputs": [
    {
     "name": "stdout",
     "output_type": "stream",
     "text": [
      "The autoreload extension is already loaded. To reload it, use:\n",
      "  %reload_ext autoreload\n"
     ]
    }
   ],
   "source": [
    "%load_ext autoreload\n",
    "%autoreload 2\n",
    "\n",
    "from sdynamics.load import parse_trajectories, parse_forces, flatten_trj_dictionaries"
   ]
  },
  {
   "cell_type": "code",
   "execution_count": 5,
   "metadata": {},
   "outputs": [
    {
     "name": "stdout",
     "output_type": "stream",
     "text": [
      "Reading trajectory files...\n"
     ]
    },
    {
     "name": "stderr",
     "output_type": "stream",
     "text": [
      "100%|██████████| 50/50 [00:17<00:00,  2.89it/s]"
     ]
    },
    {
     "name": "stdout",
     "output_type": "stream",
     "text": [
      "Trajectory files reading done!\n",
      "Reading .npy files with forces...\n",
      "Reading .npy files with forces done!\n"
     ]
    },
    {
     "name": "stderr",
     "output_type": "stream",
     "text": [
      "\n"
     ]
    }
   ],
   "source": [
    "trajectories, energies_trj, trj_files_basenames = parse_trajectories(traj_folder=\"../data/dynamics/ene_grad_fitting/data/trj/\")\n",
    "forces_trj = parse_forces(forces_path = '../data/dynamics/ene_grad_fitting/data/grad/', trj_files_basenames = trj_files_basenames)"
   ]
  },
  {
   "cell_type": "code",
   "execution_count": 33,
   "metadata": {},
   "outputs": [
    {
     "name": "stdout",
     "output_type": "stream",
     "text": [
      "Flattening done!\n"
     ]
    }
   ],
   "source": [
    "traj, energies, forces = flatten_trj_dictionaries(trajectories, energies_trj, trj_files_basenames, forces_trj)"
   ]
  },
  {
   "cell_type": "markdown",
   "metadata": {},
   "source": [
    "### Prepare training/test datasets:"
   ]
  },
  {
   "cell_type": "code",
   "execution_count": 67,
   "metadata": {},
   "outputs": [],
   "source": [
    "# Training data:\n",
    "training_indices = np.sort(  np.random.choice(np.arange(0,92795), 2000, replace=False) ) \n",
    "traj_train = [traj[i] for i in training_indices]\n",
    "energies_train = energies[training_indices]\n",
    "forces_train = forces[training_indices]\n",
    "train_data = {'trajectory': traj_train, 'energies': energies_train, 'forces': forces_train}\n",
    "\n",
    "#Test data:\n",
    "test_indices = np.sort(  np.random.choice(np.arange(0,92795), 200, replace=False) ) \n",
    "traj_test = [traj[i] for i in test_indices]\n",
    "energies_test = energies[test_indices]\n",
    "forces_test = forces[test_indices]\n",
    "test_data = {'trajectory': traj_test, 'energies': energies_test, 'forces': forces_test}"
   ]
  },
  {
   "cell_type": "code",
   "execution_count": 69,
   "metadata": {},
   "outputs": [],
   "source": [
    "from fande.data import FandeDataModuleASE\n",
    "\n",
    "soap_params = {\n",
    "    'species': [\"H\", \"C\"],\n",
    "    'periodic': False,\n",
    "    'rcut': 5.0,\n",
    "    'sigma': 0.5,\n",
    "    'nmax': 5,\n",
    "    'lmax': 5,\n",
    "    'average': \"outer\",\n",
    "    'crossover': True,\n",
    "    'dtype': \"float64\",\n",
    "    'n_jobs': 10\n",
    "}\n",
    "\n",
    "hparams = {\n",
    "    \"soap_params\" : soap_params,\n",
    "    'dtype' : 'float64',\n",
    "    'device' : 'gpu'\n",
    "}"
   ]
  },
  {
   "cell_type": "code",
   "execution_count": 80,
   "metadata": {},
   "outputs": [
    {
     "name": "stdout",
     "output_type": "stream",
     "text": [
      "tensor([-0.2962, -0.1035, -0.1307, -0.0773,  0.1387, -0.3940, -0.2920,  0.1956,\n",
      "        -0.1680, -0.2075], dtype=torch.float64)\n",
      "tensor([-0.2962, -0.1035, -0.1307, -0.0773,  0.1387, -0.3940, -0.2920,  0.1956,\n",
      "        -0.1680, -0.2075], dtype=torch.float64)\n"
     ]
    }
   ],
   "source": [
    "fdm = FandeDataModuleASE(train_data, test_data, hparams)"
   ]
  },
  {
   "cell_type": "markdown",
   "metadata": {},
   "source": [
    "### Training simple GP"
   ]
  },
  {
   "cell_type": "code",
   "execution_count": 55,
   "metadata": {},
   "outputs": [],
   "source": [
    "from fande.ase.gp_model import GP_model_ase_traj\n",
    "\n",
    "training_data = {'traj': traj, 'energies': energies, 'forces': forces}\n",
    "test_data = {'traj': traj, 'energies': energies, 'forces': forces}\n",
    "\n",
    "\n",
    "gp_model = GP_model_ase_traj(training_data, test_data, training_params, soap_params)\n",
    "\n",
    "gp_model.train()\n",
    "gp_model.test_performace()\n"
   ]
  },
  {
   "cell_type": "code",
   "execution_count": 50,
   "metadata": {},
   "outputs": [
    {
     "data": {
      "text/plain": [
       "fande.ase.gp_model.GP_model_ase_traj"
      ]
     },
     "execution_count": 50,
     "metadata": {},
     "output_type": "execute_result"
    }
   ],
   "source": [
    "type(gp_model)"
   ]
  },
  {
   "cell_type": "markdown",
   "metadata": {},
   "source": [
    "### Dynamics simulation"
   ]
  },
  {
   "cell_type": "code",
   "execution_count": null,
   "metadata": {},
   "outputs": [],
   "source": [
    "from sdynamics.dynamics import MDynamics\n",
    "\n",
    "atoms = ... # initialize saddle structure\n",
    "\n",
    "atoms.calc = gp_model.ase_calc() # get calc from the trained GP\n",
    "\n",
    "md_runner = MDynamics(atoms) # instantiate class for running MD\n",
    "\n",
    "md_runner.run() # run the MD"
   ]
  },
  {
   "cell_type": "code",
   "execution_count": null,
   "metadata": {},
   "outputs": [],
   "source": []
  },
  {
   "cell_type": "markdown",
   "metadata": {},
   "source": [
    "### Visualize:"
   ]
  },
  {
   "cell_type": "code",
   "execution_count": 48,
   "metadata": {},
   "outputs": [
    {
     "data": {
      "text/plain": [
       "<Popen: returncode: None args: ['/home/dlb/anaconda3/envs/pyc/bin/python', '...>"
      ]
     },
     "execution_count": 48,
     "metadata": {},
     "output_type": "execute_result"
    }
   ],
   "source": [
    "from ase.visualize import view\n",
    "\n",
    "# trj = trajectories[trj_files_basename[2]]\n",
    "view(traj)"
   ]
  }
 ],
 "metadata": {
  "kernelspec": {
   "display_name": "Python 3.9.12 ('base')",
   "language": "python",
   "name": "python3"
  },
  "language_info": {
   "codemirror_mode": {
    "name": "ipython",
    "version": 3
   },
   "file_extension": ".py",
   "mimetype": "text/x-python",
   "name": "python",
   "nbconvert_exporter": "python",
   "pygments_lexer": "ipython3",
   "version": "3.9.12"
  },
  "orig_nbformat": 4,
  "vscode": {
   "interpreter": {
    "hash": "0ddd1365f44c090590bb2618f275add86752e536c29796713a70da7809cd2e3f"
   }
  }
 },
 "nbformat": 4,
 "nbformat_minor": 2
}
