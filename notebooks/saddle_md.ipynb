{
 "cells": [
  {
   "cell_type": "code",
   "execution_count": 2,
   "metadata": {},
   "outputs": [],
   "source": [
    "import torch\n",
    "import tqdm\n",
    "import gpytorch\n",
    "\n",
    "\n",
    "import numpy as np\n",
    "from ase import io\n",
    "import matplotlib.pyplot as plt"
   ]
  },
  {
   "cell_type": "code",
   "execution_count": 3,
   "metadata": {},
   "outputs": [],
   "source": [
    "import sys\n",
    "sys.path.append(\"../../fande\") # Adds higher directory to python modules path."
   ]
  },
  {
   "cell_type": "code",
   "execution_count": 23,
   "metadata": {},
   "outputs": [
    {
     "name": "stdout",
     "output_type": "stream",
     "text": [
      "/home/dlb/coding/shared_coding/repos/chem-gp/saddle-dynamics/notebooks\n"
     ]
    }
   ],
   "source": [
    "path = os.getcwd()\n",
    "\n",
    "print(path)"
   ]
  },
  {
   "cell_type": "code",
   "execution_count": 4,
   "metadata": {},
   "outputs": [
    {
     "name": "stdout",
     "output_type": "stream",
     "text": [
      "fande.models module imported...\n",
      "FandE-GP imported  \n",
      "objects of fande.data module imported...\n"
     ]
    }
   ],
   "source": [
    "from fande.data import FandeDataModule"
   ]
  },
  {
   "cell_type": "code",
   "execution_count": 24,
   "metadata": {},
   "outputs": [
    {
     "name": "stdout",
     "output_type": "stream",
     "text": [
      "['../data/dynamics/ene_grad_fitting/data/trj/aimd_dft_t549_r2_000_trj.xyz', '../data/dynamics/ene_grad_fitting/data/trj/aimd_dft_t549_r2_040_trj.xyz', '../data/dynamics/ene_grad_fitting/data/trj/aimd_dft_t549_r2_039_trj.xyz', '../data/dynamics/ene_grad_fitting/data/trj/aimd_dft_t549_r2_049_trj.xyz', '../data/dynamics/ene_grad_fitting/data/trj/aimd_dft_t549_r2_036_trj.xyz', '../data/dynamics/ene_grad_fitting/data/trj/aimd_dft_t549_r2_018_trj.xyz', '../data/dynamics/ene_grad_fitting/data/trj/aimd_dft_t549_r2_025_trj.xyz', '../data/dynamics/ene_grad_fitting/data/trj/aimd_dft_t549_r2_021_trj.xyz', '../data/dynamics/ene_grad_fitting/data/trj/aimd_dft_t549_r2_024_trj.xyz', '../data/dynamics/ene_grad_fitting/data/trj/aimd_dft_t549_r2_047_trj.xyz', '../data/dynamics/ene_grad_fitting/data/trj/aimd_dft_t549_r2_029_trj.xyz', '../data/dynamics/ene_grad_fitting/data/trj/aimd_dft_t549_r2_014_trj.xyz', '../data/dynamics/ene_grad_fitting/data/trj/aimd_dft_t549_r2_033_trj.xyz', '../data/dynamics/ene_grad_fitting/data/trj/aimd_dft_t549_r2_022_trj.xyz', '../data/dynamics/ene_grad_fitting/data/trj/aimd_dft_t549_r2_034_trj.xyz', '../data/dynamics/ene_grad_fitting/data/trj/aimd_dft_t549_r2_013_trj.xyz', '../data/dynamics/ene_grad_fitting/data/trj/aimd_dft_t549_r2_027_trj.xyz', '../data/dynamics/ene_grad_fitting/data/trj/aimd_dft_t549_r2_043_trj.xyz', '../data/dynamics/ene_grad_fitting/data/trj/aimd_dft_t549_r2_044_trj.xyz', '../data/dynamics/ene_grad_fitting/data/trj/aimd_dft_t549_r2_042_trj.xyz', '../data/dynamics/ene_grad_fitting/data/trj/aimd_dft_t549_r2_007_trj.xyz', '../data/dynamics/ene_grad_fitting/data/trj/aimd_dft_t549_r2_019_trj.xyz', '../data/dynamics/ene_grad_fitting/data/trj/aimd_dft_t549_r2_004_trj.xyz', '../data/dynamics/ene_grad_fitting/data/trj/aimd_dft_t549_r2_048_trj.xyz', '../data/dynamics/ene_grad_fitting/data/trj/aimd_dft_t549_r2_011_trj.xyz', '../data/dynamics/ene_grad_fitting/data/trj/aimd_dft_t549_r2_032_trj.xyz', '../data/dynamics/ene_grad_fitting/data/trj/aimd_dft_t549_r2_009_trj.xyz', '../data/dynamics/ene_grad_fitting/data/trj/aimd_dft_t549_r2_037_trj.xyz', '../data/dynamics/ene_grad_fitting/data/trj/aimd_dft_t549_r2_016_trj.xyz', '../data/dynamics/ene_grad_fitting/data/trj/aimd_dft_t549_r2_012_trj.xyz', '../data/dynamics/ene_grad_fitting/data/trj/aimd_dft_t549_r2_046_trj.xyz', '../data/dynamics/ene_grad_fitting/data/trj/aimd_dft_t549_r2_023_trj.xyz', '../data/dynamics/ene_grad_fitting/data/trj/aimd_dft_t549_r2_031_trj.xyz', '../data/dynamics/ene_grad_fitting/data/trj/aimd_dft_t549_r2_030_trj.xyz', '../data/dynamics/ene_grad_fitting/data/trj/aimd_dft_t549_r2_005_trj.xyz', '../data/dynamics/ene_grad_fitting/data/trj/aimd_dft_t549_r2_006_trj.xyz', '../data/dynamics/ene_grad_fitting/data/trj/aimd_dft_t549_r2_035_trj.xyz', '../data/dynamics/ene_grad_fitting/data/trj/aimd_dft_t549_r2_010_trj.xyz', '../data/dynamics/ene_grad_fitting/data/trj/aimd_dft_t549_r2_001_trj.xyz', '../data/dynamics/ene_grad_fitting/data/trj/aimd_dft_t549_r2_026_trj.xyz', '../data/dynamics/ene_grad_fitting/data/trj/aimd_dft_t549_r2_038_trj.xyz', '../data/dynamics/ene_grad_fitting/data/trj/aimd_dft_t549_r2_017_trj.xyz', '../data/dynamics/ene_grad_fitting/data/trj/aimd_dft_t549_r2_028_trj.xyz', '../data/dynamics/ene_grad_fitting/data/trj/aimd_dft_t549_r2_015_trj.xyz', '../data/dynamics/ene_grad_fitting/data/trj/aimd_dft_t549_r2_041_trj.xyz', '../data/dynamics/ene_grad_fitting/data/trj/aimd_dft_t549_r2_003_trj.xyz', '../data/dynamics/ene_grad_fitting/data/trj/aimd_dft_t549_r2_008_trj.xyz', '../data/dynamics/ene_grad_fitting/data/trj/aimd_dft_t549_r2_020_trj.xyz', '../data/dynamics/ene_grad_fitting/data/trj/aimd_dft_t549_r2_045_trj.xyz', '../data/dynamics/ene_grad_fitting/data/trj/aimd_dft_t549_r2_002_trj.xyz']\n"
     ]
    }
   ],
   "source": [
    "import glob\n",
    "\n",
    "files = glob.glob(\"../data/dynamics/ene_grad_fitting/data/trj/*.xyz\")\n",
    "print(files)"
   ]
  },
  {
   "cell_type": "code",
   "execution_count": 25,
   "metadata": {},
   "outputs": [],
   "source": [
    "\n",
    "\n",
    "for f in files:\n",
    "        mol_traj = io.read(f, index=\":\")\n",
    "\n",
    "        for m in mol_traj:\n",
    "                e = float(list(mol_traj[0].info)[-1])\n"
   ]
  },
  {
   "cell_type": "code",
   "execution_count": 37,
   "metadata": {},
   "outputs": [
    {
     "data": {
      "text/plain": [
       "-272.6538175127761"
      ]
     },
     "execution_count": 37,
     "metadata": {},
     "output_type": "execute_result"
    }
   ],
   "source": [
    "energies_trj = []\n",
    "\n",
    "\n",
    "\n",
    "float(list(mol_traj[0].info)[-1])"
   ]
  }
 ],
 "metadata": {
  "kernelspec": {
   "display_name": "Python 3.9.12 ('base')",
   "language": "python",
   "name": "python3"
  },
  "language_info": {
   "codemirror_mode": {
    "name": "ipython",
    "version": 3
   },
   "file_extension": ".py",
   "mimetype": "text/x-python",
   "name": "python",
   "nbconvert_exporter": "python",
   "pygments_lexer": "ipython3",
   "version": "3.9.12"
  },
  "orig_nbformat": 4,
  "vscode": {
   "interpreter": {
    "hash": "0ddd1365f44c090590bb2618f275add86752e536c29796713a70da7809cd2e3f"
   }
  }
 },
 "nbformat": 4,
 "nbformat_minor": 2
}
